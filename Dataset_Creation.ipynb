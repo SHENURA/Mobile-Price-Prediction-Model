{
 "cells": [
  {
   "cell_type": "code",
   "execution_count": 5,
   "id": "62400bbf",
   "metadata": {},
   "outputs": [
    {
     "name": "stdout",
     "output_type": "stream",
     "text": [
      "   RAM (GB)  Storage (GB)  Display (inch)  Camera (MP)  Battery (mAh)  \\\n",
      "0         8           256             5.4           13           5000   \n",
      "1        12           256             6.0           44           4000   \n",
      "2        14           256             5.6           46           3300   \n",
      "3        13            64             6.0           21           3300   \n",
      "4         8           128             5.8           21           4000   \n",
      "\n",
      "   Weight (g)  Thickness (mm)  Screen-to-Body Ratio (%) Price Range  \\\n",
      "0       164.3             6.7                      89.5   Mid-Range   \n",
      "1       112.4             7.9                      90.7    High-End   \n",
      "2       207.0            11.2                      83.3      Budget   \n",
      "3       115.8            10.1                      96.8      Budget   \n",
      "4       198.9             6.4                      91.7    High-End   \n",
      "\n",
      "   Processor Speed (GHz)  Front Camera (MP)  Battery Life (hours)  Price (INR)  \n",
      "0               2.723417                 12                  28.3      52388.0  \n",
      "1               3.009767                  5                  13.3      45678.0  \n",
      "2               2.165280                  8                  24.3      40302.0  \n",
      "3               1.809457                  8                  23.2      31790.0  \n",
      "4               1.914318                  8                  25.7      39204.0  \n"
     ]
    }
   ],
   "source": [
    "import pandas as pd\n",
    "import numpy as np\n",
    "\n",
    "# Define the number of rows for the dataset\n",
    "num_rows = 124700\n",
    "\n",
    "# Generate random data for the attributes\n",
    "ram_gb = np.random.randint(4, 16, size=num_rows)\n",
    "storage_gb = np.random.choice([32, 64, 128, 256], size=num_rows)\n",
    "display_inch = np.random.uniform(5, 7, size=num_rows).round(1)\n",
    "camera_mp = np.random.randint(8, 56, size=num_rows)\n",
    "battery_mah = np.random.choice([3000,3300, 4000,4500, 5000], size=num_rows)\n",
    "weight_g = np.random.uniform(100, 240, size=num_rows).round(1)  # Weight of the phone in grams\n",
    "thickness_mm = np.random.uniform(6, 12, size=num_rows).round(1)  # Thickness of the phone in millimeters\n",
    "screen_to_body_ratio = np.random.uniform(80, 98, size=num_rows).round(1)  # Screen-to-body ratio of the phone\n",
    "price_range = np.random.choice(['Budget', 'Mid-Range', 'High-End'], size=num_rows)  # Price range category\n",
    "processor_speed_ghz = np.random.uniform(1.5, 3.5, size=num_rows)  # Processor speed in GHz\n",
    "front_camera_mp = np.random.choice([5, 8, 12, 16], size=num_rows)  # Front camera resolution in MP\n",
    "battery_life_hours = np.random.uniform(10, 36, size=num_rows).round(1)  # Battery life in hours\n",
    "\n",
    "# Define a function to calculate price based on specs\n",
    "def calculate_price(specs):\n",
    "    # Adjusted equation: price = (40 * RAM + 10 * Storage + 20 * Display + 5 * Camera + 2 * Battery) * 4\n",
    "    price = ((40 * specs['RAM (GB)'] + 10 * specs['Storage (GB)'] + 20 * specs['Display (inch)'] + \\\n",
    "            5 * specs['Camera (MP)'] + 2 * specs['Battery (mAh)']) * 4) + np.random.randint(-200, 201)\n",
    "    return price\n",
    "\n",
    "# Create DataFrame with specs\n",
    "data = pd.DataFrame({\n",
    "    'RAM (GB)': ram_gb,\n",
    "    'Storage (GB)': storage_gb,\n",
    "    'Display (inch)': display_inch,\n",
    "    'Camera (MP)': camera_mp,\n",
    "    'Battery (mAh)': battery_mah,\n",
    "    'Weight (g)': weight_g,\n",
    "    'Thickness (mm)': thickness_mm,\n",
    "    'Screen-to-Body Ratio (%)': screen_to_body_ratio,\n",
    "    'Price Range': price_range,\n",
    "    'Processor Speed (GHz)': processor_speed_ghz,\n",
    "    'Front Camera (MP)': front_camera_mp,\n",
    "    'Battery Life (hours)': battery_life_hours\n",
    "})\n",
    "\n",
    "# Calculate price based on specs\n",
    "data['Price (INR)'] = data.apply(calculate_price, axis=1)\n",
    "\n",
    "# Export DataFrame to CSV\n",
    "data.to_csv('mobile_price_dataset_with_outliers.csv', index=False)\n",
    "\n",
    "# Display first few rows of the generated dataset\n",
    "print(data.head())"
   ]
  },
  {
   "cell_type": "code",
   "execution_count": null,
   "id": "332bb92f",
   "metadata": {},
   "outputs": [],
   "source": []
  }
 ],
 "metadata": {
  "kernelspec": {
   "display_name": "Python 3",
   "language": "python",
   "name": "python3"
  },
  "language_info": {
   "codemirror_mode": {
    "name": "ipython",
    "version": 3
   },
   "file_extension": ".py",
   "mimetype": "text/x-python",
   "name": "python",
   "nbconvert_exporter": "python",
   "pygments_lexer": "ipython3",
   "version": "3.8.8"
  }
 },
 "nbformat": 4,
 "nbformat_minor": 5
}
